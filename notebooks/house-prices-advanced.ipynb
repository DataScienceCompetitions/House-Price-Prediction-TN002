{
 "cells": [
  {
   "cell_type": "code",
   "execution_count": 240,
   "id": "7fd8ca30-9129-425e-bf16-ce5fdba6f8be",
   "metadata": {},
   "outputs": [],
   "source": [
    "import pandas as pd \n",
    "import matplotlib.pyplot as plt \n",
    "import seaborn as sns \n",
    "from collections import Counter\n",
    "from sklearn.pipeline import make_pipeline\n",
    "from sklearn.linear_model import LinearRegression, Ridge\n",
    "from sklearn.impute import SimpleImputer\n",
    "from category_encoders import OneHotEncoder\n",
    "from sklearn.metrics import mean_absolute_error"
   ]
  },
  {
   "cell_type": "markdown",
   "id": "5d64ec4a-ded8-4a20-bd23-4c1a8d96f5b4",
   "metadata": {},
   "source": [
    "## Preparing data"
   ]
  },
  {
   "cell_type": "code",
   "execution_count": 147,
   "id": "18c01ea0-db8e-4ab2-a118-65b6b98605cd",
   "metadata": {},
   "outputs": [],
   "source": [
    "def cumulatively_categorise(column,threshold=0.75,return_categories_list=True):\n",
    "  #Find the threshold value using the percentage and number of instances in the column\n",
    "  threshold_value=int(threshold*len(column))\n",
    "  #Initialise an empty list for our new minimised categories\n",
    "  categories_list=[]\n",
    "  #Initialise a variable to calculate the sum of frequencies\n",
    "  s=0\n",
    "  #Create a counter dictionary of the form unique_value: frequency\n",
    "  counts=Counter(column)\n",
    "\n",
    "  #Loop through the category name and its corresponding frequency after sorting the categories by descending order of frequency\n",
    "  for i,j in counts.most_common():\n",
    "    #Add the frequency to the global sum\n",
    "    s+=dict(counts)[i]\n",
    "    #Append the category name to the list\n",
    "    categories_list.append(i)\n",
    "    #Check if the global sum has reached the threshold value, if so break the loop\n",
    "    if s>=threshold_value:\n",
    "      break\n",
    "  #Append the category Other to the list\n",
    "  categories_list.append('Other')\n",
    "\n",
    "  #Replace all instances not in our new categories by Other  \n",
    "  new_column=column.apply(lambda x: x if x in categories_list else 'Other')\n",
    "\n",
    "  #Return transformed column and unique values if return_categories=True\n",
    "  if(return_categories_list):\n",
    "    return new_column,categories_list\n",
    "  #Return only the transformed column if return_categories=False\n",
    "  else:\n",
    "    return new_column"
   ]
  },
  {
   "cell_type": "code",
   "execution_count": 290,
   "id": "524acce8-3ecb-40e3-b4b7-7dff01178dd3",
   "metadata": {},
   "outputs": [],
   "source": [
    "def wrangle(file_path, return_dropped_cols:bool = False, is_test_file:bool = False):\n",
    "    # Reading the data from the file.\n",
    "    df = pd.read_csv(file_path).set_index(\"Id\")\n",
    "    \n",
    "    # Dropping columns having >50% NULL values (NaN)\n",
    "    missing_values_percent = df.isna().sum() * 100 / len(df)\n",
    "    missing_values_percent = missing_values_percent[missing_values_percent > 50]\n",
    "    drop_cols = missing_values_percent.index.to_list()\n",
    "    \n",
    "    # # Drop the Id column as it's an index now. \n",
    "    # drop_cols.append(df.index.name)\n",
    "    \n",
    "    # Drop low cardinality columns\n",
    "    low_card = df.nunique()\n",
    "    low_card = low_card[low_card <2]\n",
    "    low_card = low_card.index.to_list()\n",
    "    drop_cols.extend(low_card)\n",
    "    \n",
    "    # Reformat high cardinality columns \n",
    "    columns = df.select_dtypes(\"object\").nunique()\n",
    "    columns = columns[columns > 4]\n",
    "    columns = columns.index.to_list()\n",
    "    threshold = 0.9\n",
    "    for col in columns:\n",
    "        df[col] = cumulatively_categorise(df[col], threshold, False)\n",
    "    \n",
    "    # Drop columns with multicollinearity\n",
    "    corr = df.drop(columns=[\"SalePrice\"]).corr()\n",
    "    for row in corr:\n",
    "        data = corr[row].drop(row)\n",
    "        for k, v in data.iteritems():\n",
    "            if v > 0.5:\n",
    "                drop_cols.append(k)\n",
    "    \n",
    "    # Drop all unneccessary columns. \n",
    "    drop_cols = list(set(drop_cols))\n",
    "    df.drop(columns = drop_cols, inplace=True)\n",
    "    \n",
    "    if return_dropped_cols:\n",
    "        return df, drop_cols\n",
    "    \n",
    "    return df "
   ]
  },
  {
   "cell_type": "code",
   "execution_count": 291,
   "id": "e76bae26-76e1-460d-9e09-f3d32b5f730f",
   "metadata": {},
   "outputs": [],
   "source": [
    "df = wrangle(\"data/house-prices-advanced/train.csv\")"
   ]
  },
  {
   "cell_type": "markdown",
   "id": "d7c92b53-91c7-41a7-9563-fca1680adc53",
   "metadata": {},
   "source": [
    "## Data Exploration"
   ]
  },
  {
   "cell_type": "markdown",
   "id": "2014a730-3e0f-402b-8f11-21d6471733a3",
   "metadata": {},
   "source": [
    "### 1. Data visualization"
   ]
  },
  {
   "cell_type": "code",
   "execution_count": 220,
   "id": "4db2f33d-4b4f-4a9a-8201-6bb769fa5443",
   "metadata": {},
   "outputs": [
    {
     "name": "stdout",
     "output_type": "stream",
     "text": [
      "<class 'pandas.core.frame.DataFrame'>\n",
      "Int64Index: 1460 entries, 1 to 1460\n",
      "Data columns (total 60 columns):\n",
      " #   Column         Non-Null Count  Dtype  \n",
      "---  ------         --------------  -----  \n",
      " 0   MSSubClass     1460 non-null   int64  \n",
      " 1   MSZoning       1460 non-null   object \n",
      " 2   LotFrontage    1201 non-null   float64\n",
      " 3   LotArea        1460 non-null   int64  \n",
      " 4   Street         1460 non-null   object \n",
      " 5   LotShape       1460 non-null   object \n",
      " 6   LandContour    1460 non-null   object \n",
      " 7   Utilities      1460 non-null   object \n",
      " 8   LotConfig      1460 non-null   object \n",
      " 9   LandSlope      1460 non-null   object \n",
      " 10  Neighborhood   1460 non-null   object \n",
      " 11  Condition1     1460 non-null   object \n",
      " 12  Condition2     1460 non-null   object \n",
      " 13  BldgType       1460 non-null   object \n",
      " 14  HouseStyle     1460 non-null   object \n",
      " 15  OverallCond    1460 non-null   int64  \n",
      " 16  RoofStyle      1460 non-null   object \n",
      " 17  RoofMatl       1460 non-null   object \n",
      " 18  Exterior1st    1460 non-null   object \n",
      " 19  Exterior2nd    1460 non-null   object \n",
      " 20  MasVnrType     1452 non-null   object \n",
      " 21  MasVnrArea     1452 non-null   float64\n",
      " 22  ExterQual      1460 non-null   object \n",
      " 23  ExterCond      1460 non-null   object \n",
      " 24  Foundation     1460 non-null   object \n",
      " 25  BsmtQual       1423 non-null   object \n",
      " 26  BsmtCond       1423 non-null   object \n",
      " 27  BsmtExposure   1422 non-null   object \n",
      " 28  BsmtFinType1   1460 non-null   object \n",
      " 29  BsmtFinType2   1460 non-null   object \n",
      " 30  BsmtFinSF2     1460 non-null   int64  \n",
      " 31  BsmtUnfSF      1460 non-null   int64  \n",
      " 32  Heating        1460 non-null   object \n",
      " 33  HeatingQC      1460 non-null   object \n",
      " 34  CentralAir     1460 non-null   object \n",
      " 35  Electrical     1460 non-null   object \n",
      " 36  LowQualFinSF   1460 non-null   int64  \n",
      " 37  BsmtHalfBath   1460 non-null   int64  \n",
      " 38  KitchenAbvGr   1460 non-null   int64  \n",
      " 39  KitchenQual    1460 non-null   object \n",
      " 40  Functional     1460 non-null   object \n",
      " 41  Fireplaces     1460 non-null   int64  \n",
      " 42  FireplaceQu    770 non-null    object \n",
      " 43  GarageType     1460 non-null   object \n",
      " 44  GarageFinish   1379 non-null   object \n",
      " 45  GarageQual     1379 non-null   object \n",
      " 46  GarageCond     1460 non-null   object \n",
      " 47  PavedDrive     1460 non-null   object \n",
      " 48  WoodDeckSF     1460 non-null   int64  \n",
      " 49  OpenPorchSF    1460 non-null   int64  \n",
      " 50  EnclosedPorch  1460 non-null   int64  \n",
      " 51  3SsnPorch      1460 non-null   int64  \n",
      " 52  ScreenPorch    1460 non-null   int64  \n",
      " 53  PoolArea       1460 non-null   int64  \n",
      " 54  MiscVal        1460 non-null   int64  \n",
      " 55  MoSold         1460 non-null   int64  \n",
      " 56  YrSold         1460 non-null   int64  \n",
      " 57  SaleType       1460 non-null   object \n",
      " 58  SaleCondition  1460 non-null   object \n",
      " 59  SalePrice      1460 non-null   int64  \n",
      "dtypes: float64(2), int64(19), object(39)\n",
      "memory usage: 695.8+ KB\n"
     ]
    }
   ],
   "source": [
    "df.info()"
   ]
  },
  {
   "cell_type": "markdown",
   "id": "e1e69781-53c2-48fa-8e44-a810c54dcbbd",
   "metadata": {},
   "source": [
    "Let's visualize the entire dataset columns"
   ]
  },
  {
   "cell_type": "code",
   "execution_count": 221,
   "id": "3a3cdd37-c5b7-47eb-b797-779137623301",
   "metadata": {},
   "outputs": [
    {
     "data": {
      "text/html": [
       "<div>\n",
       "<style scoped>\n",
       "    .dataframe tbody tr th:only-of-type {\n",
       "        vertical-align: middle;\n",
       "    }\n",
       "\n",
       "    .dataframe tbody tr th {\n",
       "        vertical-align: top;\n",
       "    }\n",
       "\n",
       "    .dataframe thead th {\n",
       "        text-align: right;\n",
       "    }\n",
       "</style>\n",
       "<table border=\"1\" class=\"dataframe\">\n",
       "  <thead>\n",
       "    <tr style=\"text-align: right;\">\n",
       "      <th></th>\n",
       "      <th>MSSubClass</th>\n",
       "      <th>MSZoning</th>\n",
       "      <th>LotFrontage</th>\n",
       "      <th>LotArea</th>\n",
       "      <th>Street</th>\n",
       "      <th>LotShape</th>\n",
       "      <th>LandContour</th>\n",
       "      <th>Utilities</th>\n",
       "      <th>LotConfig</th>\n",
       "      <th>LandSlope</th>\n",
       "      <th>Neighborhood</th>\n",
       "      <th>Condition1</th>\n",
       "      <th>Condition2</th>\n",
       "      <th>BldgType</th>\n",
       "      <th>HouseStyle</th>\n",
       "      <th>OverallCond</th>\n",
       "      <th>RoofStyle</th>\n",
       "      <th>RoofMatl</th>\n",
       "      <th>Exterior1st</th>\n",
       "      <th>Exterior2nd</th>\n",
       "      <th>MasVnrType</th>\n",
       "      <th>MasVnrArea</th>\n",
       "      <th>ExterQual</th>\n",
       "      <th>ExterCond</th>\n",
       "      <th>Foundation</th>\n",
       "      <th>BsmtQual</th>\n",
       "      <th>BsmtCond</th>\n",
       "      <th>BsmtExposure</th>\n",
       "      <th>BsmtFinType1</th>\n",
       "      <th>BsmtFinType2</th>\n",
       "      <th>BsmtFinSF2</th>\n",
       "      <th>BsmtUnfSF</th>\n",
       "      <th>Heating</th>\n",
       "      <th>HeatingQC</th>\n",
       "      <th>CentralAir</th>\n",
       "      <th>Electrical</th>\n",
       "      <th>LowQualFinSF</th>\n",
       "      <th>BsmtHalfBath</th>\n",
       "      <th>KitchenAbvGr</th>\n",
       "      <th>KitchenQual</th>\n",
       "      <th>Functional</th>\n",
       "      <th>Fireplaces</th>\n",
       "      <th>FireplaceQu</th>\n",
       "      <th>GarageType</th>\n",
       "      <th>GarageFinish</th>\n",
       "      <th>GarageQual</th>\n",
       "      <th>GarageCond</th>\n",
       "      <th>PavedDrive</th>\n",
       "      <th>WoodDeckSF</th>\n",
       "      <th>OpenPorchSF</th>\n",
       "      <th>EnclosedPorch</th>\n",
       "      <th>3SsnPorch</th>\n",
       "      <th>ScreenPorch</th>\n",
       "      <th>PoolArea</th>\n",
       "      <th>MiscVal</th>\n",
       "      <th>MoSold</th>\n",
       "      <th>YrSold</th>\n",
       "      <th>SaleType</th>\n",
       "      <th>SaleCondition</th>\n",
       "      <th>SalePrice</th>\n",
       "    </tr>\n",
       "    <tr>\n",
       "      <th>Id</th>\n",
       "      <th></th>\n",
       "      <th></th>\n",
       "      <th></th>\n",
       "      <th></th>\n",
       "      <th></th>\n",
       "      <th></th>\n",
       "      <th></th>\n",
       "      <th></th>\n",
       "      <th></th>\n",
       "      <th></th>\n",
       "      <th></th>\n",
       "      <th></th>\n",
       "      <th></th>\n",
       "      <th></th>\n",
       "      <th></th>\n",
       "      <th></th>\n",
       "      <th></th>\n",
       "      <th></th>\n",
       "      <th></th>\n",
       "      <th></th>\n",
       "      <th></th>\n",
       "      <th></th>\n",
       "      <th></th>\n",
       "      <th></th>\n",
       "      <th></th>\n",
       "      <th></th>\n",
       "      <th></th>\n",
       "      <th></th>\n",
       "      <th></th>\n",
       "      <th></th>\n",
       "      <th></th>\n",
       "      <th></th>\n",
       "      <th></th>\n",
       "      <th></th>\n",
       "      <th></th>\n",
       "      <th></th>\n",
       "      <th></th>\n",
       "      <th></th>\n",
       "      <th></th>\n",
       "      <th></th>\n",
       "      <th></th>\n",
       "      <th></th>\n",
       "      <th></th>\n",
       "      <th></th>\n",
       "      <th></th>\n",
       "      <th></th>\n",
       "      <th></th>\n",
       "      <th></th>\n",
       "      <th></th>\n",
       "      <th></th>\n",
       "      <th></th>\n",
       "      <th></th>\n",
       "      <th></th>\n",
       "      <th></th>\n",
       "      <th></th>\n",
       "      <th></th>\n",
       "      <th></th>\n",
       "      <th></th>\n",
       "      <th></th>\n",
       "      <th></th>\n",
       "    </tr>\n",
       "  </thead>\n",
       "  <tbody>\n",
       "    <tr>\n",
       "      <th>1</th>\n",
       "      <td>60</td>\n",
       "      <td>RL</td>\n",
       "      <td>65.0</td>\n",
       "      <td>8450</td>\n",
       "      <td>Pave</td>\n",
       "      <td>Reg</td>\n",
       "      <td>Lvl</td>\n",
       "      <td>AllPub</td>\n",
       "      <td>Inside</td>\n",
       "      <td>Gtl</td>\n",
       "      <td>CollgCr</td>\n",
       "      <td>Norm</td>\n",
       "      <td>Norm</td>\n",
       "      <td>1Fam</td>\n",
       "      <td>2Story</td>\n",
       "      <td>5</td>\n",
       "      <td>Gable</td>\n",
       "      <td>CompShg</td>\n",
       "      <td>VinylSd</td>\n",
       "      <td>VinylSd</td>\n",
       "      <td>BrkFace</td>\n",
       "      <td>196.0</td>\n",
       "      <td>Gd</td>\n",
       "      <td>TA</td>\n",
       "      <td>PConc</td>\n",
       "      <td>Gd</td>\n",
       "      <td>TA</td>\n",
       "      <td>No</td>\n",
       "      <td>GLQ</td>\n",
       "      <td>Unf</td>\n",
       "      <td>0</td>\n",
       "      <td>150</td>\n",
       "      <td>GasA</td>\n",
       "      <td>Ex</td>\n",
       "      <td>Y</td>\n",
       "      <td>SBrkr</td>\n",
       "      <td>0</td>\n",
       "      <td>0</td>\n",
       "      <td>1</td>\n",
       "      <td>Gd</td>\n",
       "      <td>Typ</td>\n",
       "      <td>0</td>\n",
       "      <td>NaN</td>\n",
       "      <td>Attchd</td>\n",
       "      <td>RFn</td>\n",
       "      <td>TA</td>\n",
       "      <td>TA</td>\n",
       "      <td>Y</td>\n",
       "      <td>0</td>\n",
       "      <td>61</td>\n",
       "      <td>0</td>\n",
       "      <td>0</td>\n",
       "      <td>0</td>\n",
       "      <td>0</td>\n",
       "      <td>0</td>\n",
       "      <td>2</td>\n",
       "      <td>2008</td>\n",
       "      <td>WD</td>\n",
       "      <td>Normal</td>\n",
       "      <td>208500</td>\n",
       "    </tr>\n",
       "    <tr>\n",
       "      <th>2</th>\n",
       "      <td>20</td>\n",
       "      <td>RL</td>\n",
       "      <td>80.0</td>\n",
       "      <td>9600</td>\n",
       "      <td>Pave</td>\n",
       "      <td>Reg</td>\n",
       "      <td>Lvl</td>\n",
       "      <td>AllPub</td>\n",
       "      <td>Other</td>\n",
       "      <td>Gtl</td>\n",
       "      <td>Other</td>\n",
       "      <td>Feedr</td>\n",
       "      <td>Norm</td>\n",
       "      <td>1Fam</td>\n",
       "      <td>1Story</td>\n",
       "      <td>8</td>\n",
       "      <td>Gable</td>\n",
       "      <td>CompShg</td>\n",
       "      <td>MetalSd</td>\n",
       "      <td>MetalSd</td>\n",
       "      <td>None</td>\n",
       "      <td>0.0</td>\n",
       "      <td>TA</td>\n",
       "      <td>TA</td>\n",
       "      <td>CBlock</td>\n",
       "      <td>Gd</td>\n",
       "      <td>TA</td>\n",
       "      <td>Gd</td>\n",
       "      <td>ALQ</td>\n",
       "      <td>Unf</td>\n",
       "      <td>0</td>\n",
       "      <td>284</td>\n",
       "      <td>GasA</td>\n",
       "      <td>Ex</td>\n",
       "      <td>Y</td>\n",
       "      <td>SBrkr</td>\n",
       "      <td>0</td>\n",
       "      <td>1</td>\n",
       "      <td>1</td>\n",
       "      <td>TA</td>\n",
       "      <td>Typ</td>\n",
       "      <td>1</td>\n",
       "      <td>TA</td>\n",
       "      <td>Attchd</td>\n",
       "      <td>RFn</td>\n",
       "      <td>TA</td>\n",
       "      <td>TA</td>\n",
       "      <td>Y</td>\n",
       "      <td>298</td>\n",
       "      <td>0</td>\n",
       "      <td>0</td>\n",
       "      <td>0</td>\n",
       "      <td>0</td>\n",
       "      <td>0</td>\n",
       "      <td>0</td>\n",
       "      <td>5</td>\n",
       "      <td>2007</td>\n",
       "      <td>WD</td>\n",
       "      <td>Normal</td>\n",
       "      <td>181500</td>\n",
       "    </tr>\n",
       "    <tr>\n",
       "      <th>3</th>\n",
       "      <td>60</td>\n",
       "      <td>RL</td>\n",
       "      <td>68.0</td>\n",
       "      <td>11250</td>\n",
       "      <td>Pave</td>\n",
       "      <td>IR1</td>\n",
       "      <td>Lvl</td>\n",
       "      <td>AllPub</td>\n",
       "      <td>Inside</td>\n",
       "      <td>Gtl</td>\n",
       "      <td>CollgCr</td>\n",
       "      <td>Norm</td>\n",
       "      <td>Norm</td>\n",
       "      <td>1Fam</td>\n",
       "      <td>2Story</td>\n",
       "      <td>5</td>\n",
       "      <td>Gable</td>\n",
       "      <td>CompShg</td>\n",
       "      <td>VinylSd</td>\n",
       "      <td>VinylSd</td>\n",
       "      <td>BrkFace</td>\n",
       "      <td>162.0</td>\n",
       "      <td>Gd</td>\n",
       "      <td>TA</td>\n",
       "      <td>PConc</td>\n",
       "      <td>Gd</td>\n",
       "      <td>TA</td>\n",
       "      <td>Mn</td>\n",
       "      <td>GLQ</td>\n",
       "      <td>Unf</td>\n",
       "      <td>0</td>\n",
       "      <td>434</td>\n",
       "      <td>GasA</td>\n",
       "      <td>Ex</td>\n",
       "      <td>Y</td>\n",
       "      <td>SBrkr</td>\n",
       "      <td>0</td>\n",
       "      <td>0</td>\n",
       "      <td>1</td>\n",
       "      <td>Gd</td>\n",
       "      <td>Typ</td>\n",
       "      <td>1</td>\n",
       "      <td>TA</td>\n",
       "      <td>Attchd</td>\n",
       "      <td>RFn</td>\n",
       "      <td>TA</td>\n",
       "      <td>TA</td>\n",
       "      <td>Y</td>\n",
       "      <td>0</td>\n",
       "      <td>42</td>\n",
       "      <td>0</td>\n",
       "      <td>0</td>\n",
       "      <td>0</td>\n",
       "      <td>0</td>\n",
       "      <td>0</td>\n",
       "      <td>9</td>\n",
       "      <td>2008</td>\n",
       "      <td>WD</td>\n",
       "      <td>Normal</td>\n",
       "      <td>223500</td>\n",
       "    </tr>\n",
       "    <tr>\n",
       "      <th>4</th>\n",
       "      <td>70</td>\n",
       "      <td>RL</td>\n",
       "      <td>60.0</td>\n",
       "      <td>9550</td>\n",
       "      <td>Pave</td>\n",
       "      <td>IR1</td>\n",
       "      <td>Lvl</td>\n",
       "      <td>AllPub</td>\n",
       "      <td>Corner</td>\n",
       "      <td>Gtl</td>\n",
       "      <td>Crawfor</td>\n",
       "      <td>Norm</td>\n",
       "      <td>Norm</td>\n",
       "      <td>1Fam</td>\n",
       "      <td>2Story</td>\n",
       "      <td>5</td>\n",
       "      <td>Gable</td>\n",
       "      <td>CompShg</td>\n",
       "      <td>Wd Sdng</td>\n",
       "      <td>Other</td>\n",
       "      <td>None</td>\n",
       "      <td>0.0</td>\n",
       "      <td>TA</td>\n",
       "      <td>TA</td>\n",
       "      <td>BrkTil</td>\n",
       "      <td>TA</td>\n",
       "      <td>Gd</td>\n",
       "      <td>No</td>\n",
       "      <td>ALQ</td>\n",
       "      <td>Unf</td>\n",
       "      <td>0</td>\n",
       "      <td>540</td>\n",
       "      <td>GasA</td>\n",
       "      <td>Gd</td>\n",
       "      <td>Y</td>\n",
       "      <td>SBrkr</td>\n",
       "      <td>0</td>\n",
       "      <td>0</td>\n",
       "      <td>1</td>\n",
       "      <td>Gd</td>\n",
       "      <td>Typ</td>\n",
       "      <td>1</td>\n",
       "      <td>Gd</td>\n",
       "      <td>Detchd</td>\n",
       "      <td>Unf</td>\n",
       "      <td>TA</td>\n",
       "      <td>TA</td>\n",
       "      <td>Y</td>\n",
       "      <td>0</td>\n",
       "      <td>35</td>\n",
       "      <td>272</td>\n",
       "      <td>0</td>\n",
       "      <td>0</td>\n",
       "      <td>0</td>\n",
       "      <td>0</td>\n",
       "      <td>2</td>\n",
       "      <td>2006</td>\n",
       "      <td>WD</td>\n",
       "      <td>Other</td>\n",
       "      <td>140000</td>\n",
       "    </tr>\n",
       "    <tr>\n",
       "      <th>5</th>\n",
       "      <td>60</td>\n",
       "      <td>RL</td>\n",
       "      <td>84.0</td>\n",
       "      <td>14260</td>\n",
       "      <td>Pave</td>\n",
       "      <td>IR1</td>\n",
       "      <td>Lvl</td>\n",
       "      <td>AllPub</td>\n",
       "      <td>Other</td>\n",
       "      <td>Gtl</td>\n",
       "      <td>NoRidge</td>\n",
       "      <td>Norm</td>\n",
       "      <td>Norm</td>\n",
       "      <td>1Fam</td>\n",
       "      <td>2Story</td>\n",
       "      <td>5</td>\n",
       "      <td>Gable</td>\n",
       "      <td>CompShg</td>\n",
       "      <td>VinylSd</td>\n",
       "      <td>VinylSd</td>\n",
       "      <td>BrkFace</td>\n",
       "      <td>350.0</td>\n",
       "      <td>Gd</td>\n",
       "      <td>TA</td>\n",
       "      <td>PConc</td>\n",
       "      <td>Gd</td>\n",
       "      <td>TA</td>\n",
       "      <td>Av</td>\n",
       "      <td>GLQ</td>\n",
       "      <td>Unf</td>\n",
       "      <td>0</td>\n",
       "      <td>490</td>\n",
       "      <td>GasA</td>\n",
       "      <td>Ex</td>\n",
       "      <td>Y</td>\n",
       "      <td>SBrkr</td>\n",
       "      <td>0</td>\n",
       "      <td>0</td>\n",
       "      <td>1</td>\n",
       "      <td>Gd</td>\n",
       "      <td>Typ</td>\n",
       "      <td>1</td>\n",
       "      <td>TA</td>\n",
       "      <td>Attchd</td>\n",
       "      <td>RFn</td>\n",
       "      <td>TA</td>\n",
       "      <td>TA</td>\n",
       "      <td>Y</td>\n",
       "      <td>192</td>\n",
       "      <td>84</td>\n",
       "      <td>0</td>\n",
       "      <td>0</td>\n",
       "      <td>0</td>\n",
       "      <td>0</td>\n",
       "      <td>0</td>\n",
       "      <td>12</td>\n",
       "      <td>2008</td>\n",
       "      <td>WD</td>\n",
       "      <td>Normal</td>\n",
       "      <td>250000</td>\n",
       "    </tr>\n",
       "    <tr>\n",
       "      <th>6</th>\n",
       "      <td>50</td>\n",
       "      <td>RL</td>\n",
       "      <td>85.0</td>\n",
       "      <td>14115</td>\n",
       "      <td>Pave</td>\n",
       "      <td>IR1</td>\n",
       "      <td>Lvl</td>\n",
       "      <td>AllPub</td>\n",
       "      <td>Inside</td>\n",
       "      <td>Gtl</td>\n",
       "      <td>Mitchel</td>\n",
       "      <td>Norm</td>\n",
       "      <td>Norm</td>\n",
       "      <td>1Fam</td>\n",
       "      <td>1.5Fin</td>\n",
       "      <td>5</td>\n",
       "      <td>Gable</td>\n",
       "      <td>CompShg</td>\n",
       "      <td>VinylSd</td>\n",
       "      <td>VinylSd</td>\n",
       "      <td>None</td>\n",
       "      <td>0.0</td>\n",
       "      <td>TA</td>\n",
       "      <td>TA</td>\n",
       "      <td>Other</td>\n",
       "      <td>Gd</td>\n",
       "      <td>TA</td>\n",
       "      <td>No</td>\n",
       "      <td>GLQ</td>\n",
       "      <td>Unf</td>\n",
       "      <td>0</td>\n",
       "      <td>64</td>\n",
       "      <td>GasA</td>\n",
       "      <td>Ex</td>\n",
       "      <td>Y</td>\n",
       "      <td>SBrkr</td>\n",
       "      <td>0</td>\n",
       "      <td>0</td>\n",
       "      <td>1</td>\n",
       "      <td>TA</td>\n",
       "      <td>Typ</td>\n",
       "      <td>0</td>\n",
       "      <td>NaN</td>\n",
       "      <td>Attchd</td>\n",
       "      <td>Unf</td>\n",
       "      <td>TA</td>\n",
       "      <td>TA</td>\n",
       "      <td>Y</td>\n",
       "      <td>40</td>\n",
       "      <td>30</td>\n",
       "      <td>0</td>\n",
       "      <td>320</td>\n",
       "      <td>0</td>\n",
       "      <td>0</td>\n",
       "      <td>700</td>\n",
       "      <td>10</td>\n",
       "      <td>2009</td>\n",
       "      <td>WD</td>\n",
       "      <td>Normal</td>\n",
       "      <td>143000</td>\n",
       "    </tr>\n",
       "    <tr>\n",
       "      <th>7</th>\n",
       "      <td>20</td>\n",
       "      <td>RL</td>\n",
       "      <td>75.0</td>\n",
       "      <td>10084</td>\n",
       "      <td>Pave</td>\n",
       "      <td>Reg</td>\n",
       "      <td>Lvl</td>\n",
       "      <td>AllPub</td>\n",
       "      <td>Inside</td>\n",
       "      <td>Gtl</td>\n",
       "      <td>Somerst</td>\n",
       "      <td>Norm</td>\n",
       "      <td>Norm</td>\n",
       "      <td>1Fam</td>\n",
       "      <td>1Story</td>\n",
       "      <td>5</td>\n",
       "      <td>Gable</td>\n",
       "      <td>CompShg</td>\n",
       "      <td>VinylSd</td>\n",
       "      <td>VinylSd</td>\n",
       "      <td>Stone</td>\n",
       "      <td>186.0</td>\n",
       "      <td>Gd</td>\n",
       "      <td>TA</td>\n",
       "      <td>PConc</td>\n",
       "      <td>Ex</td>\n",
       "      <td>TA</td>\n",
       "      <td>Av</td>\n",
       "      <td>GLQ</td>\n",
       "      <td>Unf</td>\n",
       "      <td>0</td>\n",
       "      <td>317</td>\n",
       "      <td>GasA</td>\n",
       "      <td>Ex</td>\n",
       "      <td>Y</td>\n",
       "      <td>SBrkr</td>\n",
       "      <td>0</td>\n",
       "      <td>0</td>\n",
       "      <td>1</td>\n",
       "      <td>Gd</td>\n",
       "      <td>Typ</td>\n",
       "      <td>1</td>\n",
       "      <td>Gd</td>\n",
       "      <td>Attchd</td>\n",
       "      <td>RFn</td>\n",
       "      <td>TA</td>\n",
       "      <td>TA</td>\n",
       "      <td>Y</td>\n",
       "      <td>255</td>\n",
       "      <td>57</td>\n",
       "      <td>0</td>\n",
       "      <td>0</td>\n",
       "      <td>0</td>\n",
       "      <td>0</td>\n",
       "      <td>0</td>\n",
       "      <td>8</td>\n",
       "      <td>2007</td>\n",
       "      <td>WD</td>\n",
       "      <td>Normal</td>\n",
       "      <td>307000</td>\n",
       "    </tr>\n",
       "    <tr>\n",
       "      <th>8</th>\n",
       "      <td>60</td>\n",
       "      <td>RL</td>\n",
       "      <td>NaN</td>\n",
       "      <td>10382</td>\n",
       "      <td>Pave</td>\n",
       "      <td>IR1</td>\n",
       "      <td>Lvl</td>\n",
       "      <td>AllPub</td>\n",
       "      <td>Corner</td>\n",
       "      <td>Gtl</td>\n",
       "      <td>NWAmes</td>\n",
       "      <td>Other</td>\n",
       "      <td>Norm</td>\n",
       "      <td>1Fam</td>\n",
       "      <td>2Story</td>\n",
       "      <td>6</td>\n",
       "      <td>Gable</td>\n",
       "      <td>CompShg</td>\n",
       "      <td>HdBoard</td>\n",
       "      <td>HdBoard</td>\n",
       "      <td>Stone</td>\n",
       "      <td>240.0</td>\n",
       "      <td>TA</td>\n",
       "      <td>TA</td>\n",
       "      <td>CBlock</td>\n",
       "      <td>Gd</td>\n",
       "      <td>TA</td>\n",
       "      <td>Mn</td>\n",
       "      <td>ALQ</td>\n",
       "      <td>Other</td>\n",
       "      <td>32</td>\n",
       "      <td>216</td>\n",
       "      <td>GasA</td>\n",
       "      <td>Ex</td>\n",
       "      <td>Y</td>\n",
       "      <td>SBrkr</td>\n",
       "      <td>0</td>\n",
       "      <td>0</td>\n",
       "      <td>1</td>\n",
       "      <td>TA</td>\n",
       "      <td>Typ</td>\n",
       "      <td>2</td>\n",
       "      <td>TA</td>\n",
       "      <td>Attchd</td>\n",
       "      <td>RFn</td>\n",
       "      <td>TA</td>\n",
       "      <td>TA</td>\n",
       "      <td>Y</td>\n",
       "      <td>235</td>\n",
       "      <td>204</td>\n",
       "      <td>228</td>\n",
       "      <td>0</td>\n",
       "      <td>0</td>\n",
       "      <td>0</td>\n",
       "      <td>350</td>\n",
       "      <td>11</td>\n",
       "      <td>2009</td>\n",
       "      <td>WD</td>\n",
       "      <td>Normal</td>\n",
       "      <td>200000</td>\n",
       "    </tr>\n",
       "    <tr>\n",
       "      <th>9</th>\n",
       "      <td>50</td>\n",
       "      <td>RM</td>\n",
       "      <td>51.0</td>\n",
       "      <td>6120</td>\n",
       "      <td>Pave</td>\n",
       "      <td>Reg</td>\n",
       "      <td>Lvl</td>\n",
       "      <td>AllPub</td>\n",
       "      <td>Inside</td>\n",
       "      <td>Gtl</td>\n",
       "      <td>OldTown</td>\n",
       "      <td>Other</td>\n",
       "      <td>Norm</td>\n",
       "      <td>1Fam</td>\n",
       "      <td>1.5Fin</td>\n",
       "      <td>5</td>\n",
       "      <td>Gable</td>\n",
       "      <td>CompShg</td>\n",
       "      <td>Other</td>\n",
       "      <td>Other</td>\n",
       "      <td>None</td>\n",
       "      <td>0.0</td>\n",
       "      <td>TA</td>\n",
       "      <td>TA</td>\n",
       "      <td>BrkTil</td>\n",
       "      <td>TA</td>\n",
       "      <td>TA</td>\n",
       "      <td>No</td>\n",
       "      <td>Unf</td>\n",
       "      <td>Unf</td>\n",
       "      <td>0</td>\n",
       "      <td>952</td>\n",
       "      <td>GasA</td>\n",
       "      <td>Gd</td>\n",
       "      <td>Y</td>\n",
       "      <td>Other</td>\n",
       "      <td>0</td>\n",
       "      <td>0</td>\n",
       "      <td>2</td>\n",
       "      <td>TA</td>\n",
       "      <td>Other</td>\n",
       "      <td>2</td>\n",
       "      <td>TA</td>\n",
       "      <td>Detchd</td>\n",
       "      <td>Unf</td>\n",
       "      <td>Other</td>\n",
       "      <td>TA</td>\n",
       "      <td>Y</td>\n",
       "      <td>90</td>\n",
       "      <td>0</td>\n",
       "      <td>205</td>\n",
       "      <td>0</td>\n",
       "      <td>0</td>\n",
       "      <td>0</td>\n",
       "      <td>0</td>\n",
       "      <td>4</td>\n",
       "      <td>2008</td>\n",
       "      <td>WD</td>\n",
       "      <td>Other</td>\n",
       "      <td>129900</td>\n",
       "    </tr>\n",
       "    <tr>\n",
       "      <th>10</th>\n",
       "      <td>190</td>\n",
       "      <td>RL</td>\n",
       "      <td>50.0</td>\n",
       "      <td>7420</td>\n",
       "      <td>Pave</td>\n",
       "      <td>Reg</td>\n",
       "      <td>Lvl</td>\n",
       "      <td>AllPub</td>\n",
       "      <td>Corner</td>\n",
       "      <td>Gtl</td>\n",
       "      <td>BrkSide</td>\n",
       "      <td>Other</td>\n",
       "      <td>Other</td>\n",
       "      <td>Other</td>\n",
       "      <td>Other</td>\n",
       "      <td>6</td>\n",
       "      <td>Gable</td>\n",
       "      <td>CompShg</td>\n",
       "      <td>MetalSd</td>\n",
       "      <td>MetalSd</td>\n",
       "      <td>None</td>\n",
       "      <td>0.0</td>\n",
       "      <td>TA</td>\n",
       "      <td>TA</td>\n",
       "      <td>BrkTil</td>\n",
       "      <td>TA</td>\n",
       "      <td>TA</td>\n",
       "      <td>No</td>\n",
       "      <td>GLQ</td>\n",
       "      <td>Unf</td>\n",
       "      <td>0</td>\n",
       "      <td>140</td>\n",
       "      <td>GasA</td>\n",
       "      <td>Ex</td>\n",
       "      <td>Y</td>\n",
       "      <td>SBrkr</td>\n",
       "      <td>0</td>\n",
       "      <td>0</td>\n",
       "      <td>2</td>\n",
       "      <td>TA</td>\n",
       "      <td>Typ</td>\n",
       "      <td>2</td>\n",
       "      <td>TA</td>\n",
       "      <td>Attchd</td>\n",
       "      <td>RFn</td>\n",
       "      <td>Other</td>\n",
       "      <td>TA</td>\n",
       "      <td>Y</td>\n",
       "      <td>0</td>\n",
       "      <td>4</td>\n",
       "      <td>0</td>\n",
       "      <td>0</td>\n",
       "      <td>0</td>\n",
       "      <td>0</td>\n",
       "      <td>0</td>\n",
       "      <td>1</td>\n",
       "      <td>2008</td>\n",
       "      <td>WD</td>\n",
       "      <td>Normal</td>\n",
       "      <td>118000</td>\n",
       "    </tr>\n",
       "  </tbody>\n",
       "</table>\n",
       "</div>"
      ],
      "text/plain": [
       "    MSSubClass MSZoning  LotFrontage  LotArea Street LotShape LandContour  \\\n",
       "Id                                                                          \n",
       "1           60       RL         65.0     8450   Pave      Reg         Lvl   \n",
       "2           20       RL         80.0     9600   Pave      Reg         Lvl   \n",
       "3           60       RL         68.0    11250   Pave      IR1         Lvl   \n",
       "4           70       RL         60.0     9550   Pave      IR1         Lvl   \n",
       "5           60       RL         84.0    14260   Pave      IR1         Lvl   \n",
       "6           50       RL         85.0    14115   Pave      IR1         Lvl   \n",
       "7           20       RL         75.0    10084   Pave      Reg         Lvl   \n",
       "8           60       RL          NaN    10382   Pave      IR1         Lvl   \n",
       "9           50       RM         51.0     6120   Pave      Reg         Lvl   \n",
       "10         190       RL         50.0     7420   Pave      Reg         Lvl   \n",
       "\n",
       "   Utilities LotConfig LandSlope Neighborhood Condition1 Condition2 BldgType  \\\n",
       "Id                                                                             \n",
       "1     AllPub    Inside       Gtl      CollgCr       Norm       Norm     1Fam   \n",
       "2     AllPub     Other       Gtl        Other      Feedr       Norm     1Fam   \n",
       "3     AllPub    Inside       Gtl      CollgCr       Norm       Norm     1Fam   \n",
       "4     AllPub    Corner       Gtl      Crawfor       Norm       Norm     1Fam   \n",
       "5     AllPub     Other       Gtl      NoRidge       Norm       Norm     1Fam   \n",
       "6     AllPub    Inside       Gtl      Mitchel       Norm       Norm     1Fam   \n",
       "7     AllPub    Inside       Gtl      Somerst       Norm       Norm     1Fam   \n",
       "8     AllPub    Corner       Gtl       NWAmes      Other       Norm     1Fam   \n",
       "9     AllPub    Inside       Gtl      OldTown      Other       Norm     1Fam   \n",
       "10    AllPub    Corner       Gtl      BrkSide      Other      Other    Other   \n",
       "\n",
       "   HouseStyle  OverallCond RoofStyle RoofMatl Exterior1st Exterior2nd  \\\n",
       "Id                                                                      \n",
       "1      2Story            5     Gable  CompShg     VinylSd     VinylSd   \n",
       "2      1Story            8     Gable  CompShg     MetalSd     MetalSd   \n",
       "3      2Story            5     Gable  CompShg     VinylSd     VinylSd   \n",
       "4      2Story            5     Gable  CompShg     Wd Sdng       Other   \n",
       "5      2Story            5     Gable  CompShg     VinylSd     VinylSd   \n",
       "6      1.5Fin            5     Gable  CompShg     VinylSd     VinylSd   \n",
       "7      1Story            5     Gable  CompShg     VinylSd     VinylSd   \n",
       "8      2Story            6     Gable  CompShg     HdBoard     HdBoard   \n",
       "9      1.5Fin            5     Gable  CompShg       Other       Other   \n",
       "10      Other            6     Gable  CompShg     MetalSd     MetalSd   \n",
       "\n",
       "   MasVnrType  MasVnrArea ExterQual ExterCond Foundation BsmtQual BsmtCond  \\\n",
       "Id                                                                           \n",
       "1     BrkFace       196.0        Gd        TA      PConc       Gd       TA   \n",
       "2        None         0.0        TA        TA     CBlock       Gd       TA   \n",
       "3     BrkFace       162.0        Gd        TA      PConc       Gd       TA   \n",
       "4        None         0.0        TA        TA     BrkTil       TA       Gd   \n",
       "5     BrkFace       350.0        Gd        TA      PConc       Gd       TA   \n",
       "6        None         0.0        TA        TA      Other       Gd       TA   \n",
       "7       Stone       186.0        Gd        TA      PConc       Ex       TA   \n",
       "8       Stone       240.0        TA        TA     CBlock       Gd       TA   \n",
       "9        None         0.0        TA        TA     BrkTil       TA       TA   \n",
       "10       None         0.0        TA        TA     BrkTil       TA       TA   \n",
       "\n",
       "   BsmtExposure BsmtFinType1 BsmtFinType2  BsmtFinSF2  BsmtUnfSF Heating  \\\n",
       "Id                                                                         \n",
       "1            No          GLQ          Unf           0        150    GasA   \n",
       "2            Gd          ALQ          Unf           0        284    GasA   \n",
       "3            Mn          GLQ          Unf           0        434    GasA   \n",
       "4            No          ALQ          Unf           0        540    GasA   \n",
       "5            Av          GLQ          Unf           0        490    GasA   \n",
       "6            No          GLQ          Unf           0         64    GasA   \n",
       "7            Av          GLQ          Unf           0        317    GasA   \n",
       "8            Mn          ALQ        Other          32        216    GasA   \n",
       "9            No          Unf          Unf           0        952    GasA   \n",
       "10           No          GLQ          Unf           0        140    GasA   \n",
       "\n",
       "   HeatingQC CentralAir Electrical  LowQualFinSF  BsmtHalfBath  KitchenAbvGr  \\\n",
       "Id                                                                             \n",
       "1         Ex          Y      SBrkr             0             0             1   \n",
       "2         Ex          Y      SBrkr             0             1             1   \n",
       "3         Ex          Y      SBrkr             0             0             1   \n",
       "4         Gd          Y      SBrkr             0             0             1   \n",
       "5         Ex          Y      SBrkr             0             0             1   \n",
       "6         Ex          Y      SBrkr             0             0             1   \n",
       "7         Ex          Y      SBrkr             0             0             1   \n",
       "8         Ex          Y      SBrkr             0             0             1   \n",
       "9         Gd          Y      Other             0             0             2   \n",
       "10        Ex          Y      SBrkr             0             0             2   \n",
       "\n",
       "   KitchenQual Functional  Fireplaces FireplaceQu GarageType GarageFinish  \\\n",
       "Id                                                                          \n",
       "1           Gd        Typ           0         NaN     Attchd          RFn   \n",
       "2           TA        Typ           1          TA     Attchd          RFn   \n",
       "3           Gd        Typ           1          TA     Attchd          RFn   \n",
       "4           Gd        Typ           1          Gd     Detchd          Unf   \n",
       "5           Gd        Typ           1          TA     Attchd          RFn   \n",
       "6           TA        Typ           0         NaN     Attchd          Unf   \n",
       "7           Gd        Typ           1          Gd     Attchd          RFn   \n",
       "8           TA        Typ           2          TA     Attchd          RFn   \n",
       "9           TA      Other           2          TA     Detchd          Unf   \n",
       "10          TA        Typ           2          TA     Attchd          RFn   \n",
       "\n",
       "   GarageQual GarageCond PavedDrive  WoodDeckSF  OpenPorchSF  EnclosedPorch  \\\n",
       "Id                                                                            \n",
       "1          TA         TA          Y           0           61              0   \n",
       "2          TA         TA          Y         298            0              0   \n",
       "3          TA         TA          Y           0           42              0   \n",
       "4          TA         TA          Y           0           35            272   \n",
       "5          TA         TA          Y         192           84              0   \n",
       "6          TA         TA          Y          40           30              0   \n",
       "7          TA         TA          Y         255           57              0   \n",
       "8          TA         TA          Y         235          204            228   \n",
       "9       Other         TA          Y          90            0            205   \n",
       "10      Other         TA          Y           0            4              0   \n",
       "\n",
       "    3SsnPorch  ScreenPorch  PoolArea  MiscVal  MoSold  YrSold SaleType  \\\n",
       "Id                                                                       \n",
       "1           0            0         0        0       2    2008       WD   \n",
       "2           0            0         0        0       5    2007       WD   \n",
       "3           0            0         0        0       9    2008       WD   \n",
       "4           0            0         0        0       2    2006       WD   \n",
       "5           0            0         0        0      12    2008       WD   \n",
       "6         320            0         0      700      10    2009       WD   \n",
       "7           0            0         0        0       8    2007       WD   \n",
       "8           0            0         0      350      11    2009       WD   \n",
       "9           0            0         0        0       4    2008       WD   \n",
       "10          0            0         0        0       1    2008       WD   \n",
       "\n",
       "   SaleCondition  SalePrice  \n",
       "Id                           \n",
       "1         Normal     208500  \n",
       "2         Normal     181500  \n",
       "3         Normal     223500  \n",
       "4          Other     140000  \n",
       "5         Normal     250000  \n",
       "6         Normal     143000  \n",
       "7         Normal     307000  \n",
       "8         Normal     200000  \n",
       "9          Other     129900  \n",
       "10        Normal     118000  "
      ]
     },
     "execution_count": 221,
     "metadata": {},
     "output_type": "execute_result"
    }
   ],
   "source": [
    "pd.set_option(\"display.max_columns\", None)\n",
    "df.head(10)"
   ]
  },
  {
   "cell_type": "markdown",
   "id": "59291d2e-f29f-476a-a774-ff6f0d364ca0",
   "metadata": {},
   "source": [
    "#### 2. Identifying NaN columns"
   ]
  },
  {
   "cell_type": "markdown",
   "id": "a5850c48-70a7-465b-88e4-d65762af07d6",
   "metadata": {},
   "source": [
    "Let's check for NULL values. Any feature having >50%  of null values will be dropped. \n",
    "In the graph below, anything below the line is kept in tack and any feature above the line will be dropped. "
   ]
  },
  {
   "cell_type": "code",
   "execution_count": 79,
   "id": "0bc1ebd3-a15a-4114-a2db-453588f6126d",
   "metadata": {},
   "outputs": [
    {
     "data": {
      "image/png": "[encoded data removed]",
      "text/plain": [
       "<Figure size 432x288 with 1 Axes>"
      ]
     },
     "metadata": {
      "needs_background": "light"
     },
     "output_type": "display_data"
    }
   ],
   "source": [
    "missing_values_percent = df.isna().sum() * 100 / len(df)\n",
    "missing_values_percent = missing_values_percent[missing_values_percent > 0]\n",
    "missing_values_percent.plot(kind=\"bar\")\n",
    "plt.axhline(y=50, color=\"red\", linestyle=\"-\")\n",
    "plt.xlabel(\"Features\")\n",
    "plt.ylabel(\"Percentage [/100]\")\n",
    "plt.title(\"Distribution of missing values in dataset\");"
   ]
  },
  {
   "cell_type": "code",
   "execution_count": 136,
   "id": "3884a758-90e1-4c60-a33a-c74d246549c5",
   "metadata": {},
   "outputs": [
    {
     "data": {
      "text/plain": [
       "Series([], dtype: float64)"
      ]
     },
     "execution_count": 136,
     "metadata": {},
     "output_type": "execute_result"
    }
   ],
   "source": [
    "missing_values_ = missing_values_percent[missing_values_percent > 50]\n",
    "missing_values_"
   ]
  },
  {
   "cell_type": "markdown",
   "id": "b6b16b10-c66d-4e5d-8d49-78871be6af75",
   "metadata": {},
   "source": [
    "### 3. Finding out High and Low cardinality"
   ]
  },
  {
   "cell_type": "code",
   "execution_count": 167,
   "id": "60c0b329-d6b9-42eb-b44c-930b6f0ffe39",
   "metadata": {},
   "outputs": [
    {
     "data": {
      "text/plain": [
       "Street            2\n",
       "GarageCond        2\n",
       "Utilities         2\n",
       "GarageQual        2\n",
       "Functional        2\n",
       "Condition2        2\n",
       "Electrical        2\n",
       "CentralAir        2\n",
       "Heating           2\n",
       "RoofMatl          2\n",
       "MSZoning          3\n",
       "PavedDrive        3\n",
       "GarageFinish      3\n",
       "FireplaceQu       3\n",
       "SaleType          3\n",
       "ExterCond         3\n",
       "SaleCondition     3\n",
       "LotConfig         3\n",
       "LandSlope         3\n",
       "Condition1        3\n",
       "RoofStyle         3\n",
       "BldgType          3\n",
       "ExterQual         4\n",
       "LotShape          4\n",
       "LandContour       4\n",
       "GarageType        4\n",
       "KitchenQual       4\n",
       "HouseStyle        4\n",
       "HeatingQC         4\n",
       "BsmtFinType2      4\n",
       "BsmtExposure      4\n",
       "BsmtCond          4\n",
       "BsmtQual          4\n",
       "MasVnrType        4\n",
       "Foundation        4\n",
       "BsmtFinType1      6\n",
       "Exterior1st       7\n",
       "Exterior2nd       7\n",
       "Neighborhood     18\n",
       "dtype: int64"
      ]
     },
     "execution_count": 167,
     "metadata": {},
     "output_type": "execute_result"
    }
   ],
   "source": [
    "df.select_dtypes(\"object\").nunique().sort_values()"
   ]
  },
  {
   "cell_type": "markdown",
   "id": "c0270d0d-709e-4a6b-9fc5-6d31a584e0ca",
   "metadata": {},
   "source": [
    "We will set the threshold for categorical data at 90%, loop through all categorical data and reclassify them. But only for categorical data having more than 4 unique values."
   ]
  },
  {
   "cell_type": "code",
   "execution_count": 168,
   "id": "ca5a7ce6-d2bf-4647-8b09-b504035bd269",
   "metadata": {},
   "outputs": [],
   "source": [
    "# columns = df.select_dtypes(\"object\").nunique()\n",
    "# columns = columns[columns > 4]\n",
    "# columns = columns.index.to_list()\n",
    "# threshold = 0.9\n",
    "# for col in columns:\n",
    "#     df[col] = cumulatively_categorise(df[col], threshold, False)\n",
    "# df.select_dtypes(\"object\").nunique()"
   ]
  },
  {
   "cell_type": "markdown",
   "id": "bca5b2d6-d041-4e29-9fb4-0b8b21ad778f",
   "metadata": {},
   "source": [
    "Let's verify the correlation between low cardinality columns and SalePrice column"
   ]
  },
  {
   "cell_type": "code",
   "execution_count": 117,
   "id": "30f18eb4-b25e-478a-93b2-5fafa62f782f",
   "metadata": {},
   "outputs": [
    {
     "name": "stdout",
     "output_type": "stream",
     "text": [
      "Correlation between `Street`.`Grvl` and `SalePrice`: -0.04103553550004949\n",
      "Correlation between `Street`.`Pave` and `SalePrice`: 0.04103553550004951\n"
     ]
    }
   ],
   "source": [
    "d = {\"Pave\": False, \"Grvl\": True}\n",
    "street = df[\"Street\"].map(d).astype(int)\n",
    "print(\"Correlation between `Street`.`Grvl` and `SalePrice`:\", street.corr(df[\"SalePrice\"]))\n",
    "\n",
    "d = {\"Pave\": True, \"Grvl\": False}\n",
    "street = df[\"Street\"].map(d).astype(int)\n",
    "print(\"Correlation between `Street`.`Pave` and `SalePrice`:\", street.corr(df[\"SalePrice\"]))"
   ]
  },
  {
   "cell_type": "markdown",
   "id": "017461a5-bbdc-410a-a51e-18990c085a41",
   "metadata": {},
   "source": [
    "### 4. Leaky Features"
   ]
  },
  {
   "cell_type": "markdown",
   "id": "90d48f74-65ca-4318-87a7-dd25ba5146bd",
   "metadata": {},
   "source": [
    "Let's get the hihly correlated columns with `SalePrice`"
   ]
  },
  {
   "cell_type": "code",
   "execution_count": 277,
   "id": "a233fb6e-07f6-4bba-863f-d15c1ee86d48",
   "metadata": {},
   "outputs": [
    {
     "data": {
      "text/plain": [
       "KitchenAbvGr    -0.135907\n",
       "EnclosedPorch   -0.128578\n",
       "OverallCond     -0.077856\n",
       "YrSold          -0.028923\n",
       "LowQualFinSF    -0.025606\n",
       "MiscVal         -0.021190\n",
       "BsmtHalfBath    -0.016844\n",
       "BsmtFinSF2      -0.011378\n",
       "3SsnPorch        0.044584\n",
       "MoSold           0.046432\n",
       "PoolArea         0.092404\n",
       "ScreenPorch      0.111447\n",
       "BsmtUnfSF        0.214479\n",
       "LotArea          0.263843\n",
       "OpenPorchSF      0.315856\n",
       "WoodDeckSF       0.324413\n",
       "LotFrontage      0.351799\n",
       "Fireplaces       0.466929\n",
       "MasVnrArea       0.477493\n",
       "SalePrice        1.000000\n",
       "Name: SalePrice, dtype: float64"
      ]
     },
     "execution_count": 277,
     "metadata": {},
     "output_type": "execute_result"
    }
   ],
   "source": [
    "numeric_data = df.select_dtypes(\"number\")\n",
    "corr = numeric_data[numeric_data.columns[1:]].corr()[\"SalePrice\"][:].sort_values()\n",
    "corr"
   ]
  },
  {
   "cell_type": "code",
   "execution_count": 189,
   "id": "b8e89abd-4bdb-41f4-a108-5c692d51238a",
   "metadata": {},
   "outputs": [
    {
     "data": {
      "image/png": "[encoded data removed]",
      "text/plain": [
       "<Figure size 864x432 with 1 Axes>"
      ]
     },
     "metadata": {
      "needs_background": "light"
     },
     "output_type": "display_data"
    }
   ],
   "source": [
    "corr.plot.bar(figsize=(12, 6))\n",
    "plt.xlabel(\"Features\")\n",
    "plt.ylabel(\"Correlation\")\n",
    "plt.title(\"Correlation between Feature Matrix and Target Vector [SalePrice]\");"
   ]
  },
  {
   "cell_type": "markdown",
   "id": "892247ac-84d7-4b07-81a7-dc37d2ea21fd",
   "metadata": {},
   "source": [
    "### 5. Multicollineality"
   ]
  },
  {
   "cell_type": "code",
   "execution_count": 222,
   "id": "40aaec95-1703-4224-9ab4-3899547fd88c",
   "metadata": {},
   "outputs": [
    {
     "data": {
      "image/png": "[encoded data removed]",
      "text/plain": [
       "<Figure size 1152x720 with 2 Axes>"
      ]
     },
     "metadata": {
      "needs_background": "light"
     },
     "output_type": "display_data"
    }
   ],
   "source": [
    "corr = df.drop(columns=[\"SalePrice\"]).corr()\n",
    "# corr.style.background_gradient(cmap='coolwarm')\n",
    "fig, ax = plt.subplots(figsize=(16, 10))\n",
    "sns.heatmap(corr);"
   ]
  },
  {
   "cell_type": "code",
   "execution_count": 223,
   "id": "e0e9744f-9e52-4dba-98d6-44d0b508b55f",
   "metadata": {},
   "outputs": [],
   "source": [
    "# Identifying columns with high multicollinearity. \n",
    "\n",
    "# droppable = []\n",
    "# for row in corr:\n",
    "#     data = corr[row].drop(row)\n",
    "#     for k, v in data.iteritems():\n",
    "#         if v > 0.5:\n",
    "#             droppable.append(k)\n",
    "# droppable = list(set(droppable))\n",
    "# len(droppable)"
   ]
  },
  {
   "cell_type": "markdown",
   "id": "a74a4519-76b6-4a5b-8512-02e21836ad31",
   "metadata": {},
   "source": [
    "# 6. Split the data "
   ]
  },
  {
   "cell_type": "code",
   "execution_count": 278,
   "id": "2b5097f8-3ccf-4ae5-8863-854f702cd916",
   "metadata": {},
   "outputs": [],
   "source": [
    "cutoff = int(len(df) * 0.85)\n",
    "target = \"SalePrice\"\n",
    "X_train, X_test = df.drop(columns=[target])[:cutoff], df.drop(columns=[target])[cutoff:]\n",
    "y_train, y_test = df[target][:cutoff], df[target][cutoff:]"
   ]
  },
  {
   "cell_type": "code",
   "execution_count": 280,
   "id": "51e05868-33a5-4cf2-a3bb-34d0a38701e0",
   "metadata": {},
   "outputs": [
    {
     "data": {
      "text/plain": [
       "(1460, 60)"
      ]
     },
     "execution_count": 280,
     "metadata": {},
     "output_type": "execute_result"
    }
   ],
   "source": [
    "df.shape"
   ]
  },
  {
   "cell_type": "markdown",
   "id": "3b6f4c9b-7057-488d-9c87-86d53b5970f0",
   "metadata": {},
   "source": [
    "## 7. Build Model"
   ]
  },
  {
   "cell_type": "code",
   "execution_count": 249,
   "id": "13088cbe-8630-4d37-a99a-76640dc25f39",
   "metadata": {},
   "outputs": [
    {
     "name": "stdout",
     "output_type": "stream",
     "text": [
      "Baseline MAE: 57705.43329344367\n"
     ]
    }
   ],
   "source": [
    "y_mean = y_train.mean()\n",
    "y_pred = [y_mean] * len(y_train)\n",
    "print(\"Baseline MAE:\", mean_absolute_error(y_train, y_pred))"
   ]
  },
  {
   "cell_type": "code",
   "execution_count": 252,
   "id": "d114b04f-b6f5-4251-8546-4dee37a0016c",
   "metadata": {},
   "outputs": [],
   "source": [
    "model = make_pipeline(\n",
    "    OneHotEncoder(use_cat_names=True),\n",
    "    SimpleImputer(),\n",
    "    LinearRegression()\n",
    ")\n",
    "model.fit(X_train, y_train);"
   ]
  },
  {
   "cell_type": "code",
   "execution_count": 256,
   "id": "bb2bb7e0-26d2-450d-bc1c-837fad2ac94d",
   "metadata": {},
   "outputs": [
    {
     "name": "stdout",
     "output_type": "stream",
     "text": [
      "Training MAE: 26535.583565211185\n"
     ]
    }
   ],
   "source": [
    "y_pred = model.predict(X_test)\n",
    "print(\"Training MAE:\", mean_absolute_error(y_test, y_pred))"
   ]
  },
  {
   "cell_type": "markdown",
   "id": "83646b7d-5653-4584-8b8f-a52281dd208e",
   "metadata": {},
   "source": [
    "## 8. Evaluation"
   ]
  },
  {
   "cell_type": "markdown",
   "id": "52eb9930-d228-4508-87a6-a80a5371b494",
   "metadata": {},
   "source": [
    "Let's make a plot of the predicted values and the actual values."
   ]
  },
  {
   "cell_type": "code",
   "execution_count": 257,
   "id": "7f5d4586-d22c-4460-9549-aa9fe2ba5fc0",
   "metadata": {},
   "outputs": [],
   "source": [
    "prediction = pd.DataFrame(\n",
    "    {\"y_test\": y_test, \"y_pred\": y_pred}, index=y_test.index\n",
    ")"
   ]
  },
  {
   "cell_type": "code",
   "execution_count": 263,
   "id": "06deefa7-71cb-4ba7-9306-5b2d32cea818",
   "metadata": {},
   "outputs": [
    {
     "data": {
      "text/plain": [
       "<AxesSubplot:xlabel='Id'>"
      ]
     },
     "execution_count": 263,
     "metadata": {},
     "output_type": "execute_result"
    },
    {
     "data": {
      "image/png": "[encoded data removed]",
      "text/plain": [
       "<Figure size 1440x576 with 1 Axes>"
      ]
     },
     "metadata": {
      "needs_background": "light"
     },
     "output_type": "display_data"
    }
   ],
   "source": [
    "prediction.plot(figsize=(20,8))"
   ]
  },
  {
   "cell_type": "code",
   "execution_count": null,
   "id": "3b3f1bae-7d20-45b4-9d3f-6e552f25f846",
   "metadata": {},
   "outputs": [],
   "source": []
  },
  {
   "cell_type": "code",
   "execution_count": 293,
   "id": "b4e18bb7-6067-465e-baa7-316561790fae",
   "metadata": {},
   "outputs": [],
   "source": [
    "_, drop_cols = wrangle(\"data/house-prices-advanced/train.csv\", True)\n",
    "X_test_data = pd.read_csv(\"data/house-prices-advanced/test.csv\").set_index(\"Id\").drop(columns=drop_cols)"
   ]
  },
  {
   "cell_type": "code",
   "execution_count": 295,
   "id": "210e3477-2aca-42b1-9b41-6473083b0e1a",
   "metadata": {},
   "outputs": [],
   "source": [
    "predictions = model.predict(X_test_data)"
   ]
  },
  {
   "cell_type": "code",
   "execution_count": 304,
   "id": "943bae65-a77d-437f-beb0-facf791d1559",
   "metadata": {},
   "outputs": [],
   "source": [
    "preds = pd.Series(predictions, index=X_test_data.index)"
   ]
  },
  {
   "cell_type": "code",
   "execution_count": 305,
   "id": "1ce666ee-943f-47b2-b83f-5cfd6251e27f",
   "metadata": {},
   "outputs": [
    {
     "data": {
      "text/plain": [
       "Id\n",
       "1461   -1.869184e+13\n",
       "1462    1.590451e+05\n",
       "1463    1.821099e+05\n",
       "1464    1.895279e+05\n",
       "1465   -1.233497e+10\n",
       "            ...     \n",
       "2915   -1.040047e+10\n",
       "2916   -1.047453e+10\n",
       "2917   -8.750281e+08\n",
       "2918   -2.908898e+09\n",
       "2919    2.229700e+09\n",
       "Length: 1459, dtype: float64"
      ]
     },
     "execution_count": 305,
     "metadata": {},
     "output_type": "execute_result"
    }
   ],
   "source": [
    "preds"
   ]
  },
  {
   "cell_type": "code",
   "execution_count": 310,
   "id": "14f0dd66-90f8-4859-970f-2ef679843dba",
   "metadata": {},
   "outputs": [
    {
     "data": {
      "text/html": [
       "<div>\n",
       "<style scoped>\n",
       "    .dataframe tbody tr th:only-of-type {\n",
       "        vertical-align: middle;\n",
       "    }\n",
       "\n",
       "    .dataframe tbody tr th {\n",
       "        vertical-align: top;\n",
       "    }\n",
       "\n",
       "    .dataframe thead th {\n",
       "        text-align: right;\n",
       "    }\n",
       "</style>\n",
       "<table border=\"1\" class=\"dataframe\">\n",
       "  <thead>\n",
       "    <tr style=\"text-align: right;\">\n",
       "      <th></th>\n",
       "      <th>y_test</th>\n",
       "      <th>y_pred</th>\n",
       "    </tr>\n",
       "    <tr>\n",
       "      <th>Id</th>\n",
       "      <th></th>\n",
       "      <th></th>\n",
       "    </tr>\n",
       "  </thead>\n",
       "  <tbody>\n",
       "    <tr>\n",
       "      <th>1242</th>\n",
       "      <td>248328</td>\n",
       "      <td>248092.140625</td>\n",
       "    </tr>\n",
       "    <tr>\n",
       "      <th>1243</th>\n",
       "      <td>170000</td>\n",
       "      <td>222443.316406</td>\n",
       "    </tr>\n",
       "    <tr>\n",
       "      <th>1244</th>\n",
       "      <td>465000</td>\n",
       "      <td>383960.667969</td>\n",
       "    </tr>\n",
       "    <tr>\n",
       "      <th>1245</th>\n",
       "      <td>230000</td>\n",
       "      <td>235551.152344</td>\n",
       "    </tr>\n",
       "    <tr>\n",
       "      <th>1246</th>\n",
       "      <td>178000</td>\n",
       "      <td>199962.359375</td>\n",
       "    </tr>\n",
       "    <tr>\n",
       "      <th>...</th>\n",
       "      <td>...</td>\n",
       "      <td>...</td>\n",
       "    </tr>\n",
       "    <tr>\n",
       "      <th>1456</th>\n",
       "      <td>175000</td>\n",
       "      <td>159726.285156</td>\n",
       "    </tr>\n",
       "    <tr>\n",
       "      <th>1457</th>\n",
       "      <td>210000</td>\n",
       "      <td>194444.078125</td>\n",
       "    </tr>\n",
       "    <tr>\n",
       "      <th>1458</th>\n",
       "      <td>266500</td>\n",
       "      <td>283639.843750</td>\n",
       "    </tr>\n",
       "    <tr>\n",
       "      <th>1459</th>\n",
       "      <td>142125</td>\n",
       "      <td>169688.007812</td>\n",
       "    </tr>\n",
       "    <tr>\n",
       "      <th>1460</th>\n",
       "      <td>147500</td>\n",
       "      <td>163182.585938</td>\n",
       "    </tr>\n",
       "  </tbody>\n",
       "</table>\n",
       "<p>219 rows × 2 columns</p>\n",
       "</div>"
      ],
      "text/plain": [
       "      y_test         y_pred\n",
       "Id                         \n",
       "1242  248328  248092.140625\n",
       "1243  170000  222443.316406\n",
       "1244  465000  383960.667969\n",
       "1245  230000  235551.152344\n",
       "1246  178000  199962.359375\n",
       "...      ...            ...\n",
       "1456  175000  159726.285156\n",
       "1457  210000  194444.078125\n",
       "1458  266500  283639.843750\n",
       "1459  142125  169688.007812\n",
       "1460  147500  163182.585938\n",
       "\n",
       "[219 rows x 2 columns]"
      ]
     },
     "execution_count": 310,
     "metadata": {},
     "output_type": "execute_result"
    }
   ],
   "source": [
    "prediction"
   ]
  },
  {
   "cell_type": "code",
   "execution_count": 1,
   "id": "d950e3e4-bdcb-4613-94c1-9a3844f3070e",
   "metadata": {},
   "outputs": [],
   "source": [
    "import random"
   ]
  },
  {
   "cell_type": "code",
   "execution_count": 7,
   "id": "0e4479b8-dc0b-48fc-8eeb-93925d048c9c",
   "metadata": {},
   "outputs": [
    {
     "data": {
      "text/plain": [
       "88457"
      ]
     },
     "execution_count": 7,
     "metadata": {},
     "output_type": "execute_result"
    }
   ],
   "source": [
    "int(random.random() * 100000)"
   ]
  },
  {
   "cell_type": "code",
   "execution_count": 23,
   "id": "1e592a38-a5ac-4cee-a9f1-711ea304ef4f",
   "metadata": {},
   "outputs": [],
   "source": [
    "from enum import IntEnum, Enum\n",
    "\n",
    "class TType(Enum):\n",
    "    INVESTMENT = \"invest\"\n",
    "    WITHDRAWAL = \"withdraw\""
   ]
  },
  {
   "cell_type": "code",
   "execution_count": 11,
   "id": "476d2aa4-ed9a-437a-93f4-73cc016368c8",
   "metadata": {},
   "outputs": [
    {
     "data": {
      "text/plain": [
       "1"
      ]
     },
     "execution_count": 11,
     "metadata": {},
     "output_type": "execute_result"
    }
   ],
   "source": [
    "int(TType.INVESTMENT)"
   ]
  },
  {
   "cell_type": "code",
   "execution_count": 14,
   "id": "c2ddaaf8-70a1-4b4b-b22f-3e38d6f05ea0",
   "metadata": {},
   "outputs": [],
   "source": [
    "trans_type = 1"
   ]
  },
  {
   "cell_type": "code",
   "execution_count": 15,
   "id": "6c233688-7908-40cb-a6ae-0d9ba471c3c6",
   "metadata": {},
   "outputs": [
    {
     "data": {
      "text/plain": [
       "True"
      ]
     },
     "execution_count": 15,
     "metadata": {},
     "output_type": "execute_result"
    }
   ],
   "source": [
    "trans_type == TType.INVESTMENT"
   ]
  },
  {
   "cell_type": "code",
   "execution_count": 19,
   "id": "56ee5d68-efab-47f2-95c4-3f6f819152bc",
   "metadata": {},
   "outputs": [
    {
     "name": "stdout",
     "output_type": "stream",
     "text": [
      "False\n"
     ]
    }
   ],
   "source": [
    "if 5 in list(TType):\n",
    "    print(True)\n",
    "else:\n",
    "    print(False)"
   ]
  },
  {
   "cell_type": "code",
   "execution_count": 26,
   "id": "8bf51ddf-883a-427c-be53-ceb47db29e06",
   "metadata": {},
   "outputs": [
    {
     "data": {
      "text/plain": [
       "'invest'"
      ]
     },
     "execution_count": 26,
     "metadata": {},
     "output_type": "execute_result"
    }
   ],
   "source": [
    "TType(\"invest\").value"
   ]
  },
  {
   "cell_type": "code",
   "execution_count": 44,
   "id": "1676c290-ac89-4681-98a2-f9983cf77911",
   "metadata": {},
   "outputs": [],
   "source": [
    "from datetime import datetime, timedelta\n",
    "import math"
   ]
  },
  {
   "cell_type": "code",
   "execution_count": 31,
   "id": "da299712-eb94-4526-9cd3-e0cab877811d",
   "metadata": {},
   "outputs": [],
   "source": [
    "last = datetime.utcnow() - timedelta(hours=25, minutes=15)"
   ]
  },
  {
   "cell_type": "code",
   "execution_count": 54,
   "id": "f4d427cb-c688-4124-80c2-e5d94785363d",
   "metadata": {},
   "outputs": [
    {
     "data": {
      "text/plain": [
       "datetime.datetime(2022, 4, 19, 6, 42, 54, 12110)"
      ]
     },
     "execution_count": 54,
     "metadata": {},
     "output_type": "execute_result"
    }
   ],
   "source": [
    "last"
   ]
  },
  {
   "cell_type": "code",
   "execution_count": 52,
   "id": "30197455-ec12-4283-be70-e850110dae9b",
   "metadata": {},
   "outputs": [],
   "source": [
    "last_interest_calc = last \n",
    "accepted_num_of_days = 2"
   ]
  },
  {
   "cell_type": "code",
   "execution_count": 53,
   "id": "3565a506-ac27-40bf-99ca-487a2fad8278",
   "metadata": {},
   "outputs": [
    {
     "data": {
      "text/plain": [
       "datetime.datetime(2022, 4, 21, 6, 42, 54, 12110)"
      ]
     },
     "execution_count": 53,
     "metadata": {},
     "output_type": "execute_result"
    }
   ],
   "source": [
    "last_interest_calc + timedelta(hours=(accepted_num_of_days * 24))"
   ]
  },
  {
   "cell_type": "code",
   "execution_count": 37,
   "id": "66105e40-c7a6-44e2-a9f8-74f14d5081fd",
   "metadata": {},
   "outputs": [
    {
     "data": {
      "text/plain": [
       "3"
      ]
     },
     "execution_count": 37,
     "metadata": {},
     "output_type": "execute_result"
    }
   ],
   "source": [
    "15//4"
   ]
  },
  {
   "cell_type": "code",
   "execution_count": 39,
   "id": "19ed55f1-422e-40e5-bfcb-7dbf28863259",
   "metadata": {},
   "outputs": [],
   "source": [
    "a = 23.937"
   ]
  },
  {
   "cell_type": "code",
   "execution_count": 40,
   "id": "b4c24a28-6c20-466f-ac8b-be119880ac47",
   "metadata": {},
   "outputs": [
    {
     "data": {
      "text/plain": [
       "23.94"
      ]
     },
     "execution_count": 40,
     "metadata": {},
     "output_type": "execute_result"
    }
   ],
   "source": [
    "round(a, 2)"
   ]
  },
  {
   "cell_type": "code",
   "execution_count": 42,
   "id": "46ea6224-8e33-4cb7-b526-66f8bdbb80a6",
   "metadata": {},
   "outputs": [
    {
     "data": {
      "text/plain": [
       "'23.94'"
      ]
     },
     "execution_count": 42,
     "metadata": {},
     "output_type": "execute_result"
    }
   ],
   "source": [
    "format(a, \".2f\")"
   ]
  },
  {
   "cell_type": "code",
   "execution_count": 46,
   "id": "19d2d623-904f-48b6-96d0-1885802bc95f",
   "metadata": {},
   "outputs": [
    {
     "ename": "TypeError",
     "evalue": "floor() takes exactly one argument (2 given)",
     "output_type": "error",
     "traceback": [
      "\u001b[0;31m---------------------------------------------------------------------------\u001b[0m",
      "\u001b[0;31mTypeError\u001b[0m                                 Traceback (most recent call last)",
      "\u001b[0;32m/tmp/ipykernel_13632/2503829232.py\u001b[0m in \u001b[0;36m<module>\u001b[0;34m\u001b[0m\n\u001b[0;32m----> 1\u001b[0;31m \u001b[0mmath\u001b[0m\u001b[0;34m.\u001b[0m\u001b[0mfloor\u001b[0m\u001b[0;34m(\u001b[0m\u001b[0ma\u001b[0m\u001b[0;34m,\u001b[0m \u001b[0;36m2\u001b[0m\u001b[0;34m)\u001b[0m\u001b[0;34m\u001b[0m\u001b[0;34m\u001b[0m\u001b[0m\n\u001b[0m",
      "\u001b[0;31mTypeError\u001b[0m: floor() takes exactly one argument (2 given)"
     ]
    }
   ],
   "source": [
    "math.floor(a, 2)"
   ]
  },
  {
   "cell_type": "code",
   "execution_count": 47,
   "id": "85add7cf-3914-46e9-a726-d2f79617e88f",
   "metadata": {},
   "outputs": [],
   "source": [
    "float_num = 5.8967\n",
    " \n",
    "def truncatenum(num,digits=0):\n",
    "    multiplier = 10 ** digits\n",
    "    return int(num * multiplier) / multiplier"
   ]
  },
  {
   "cell_type": "code",
   "execution_count": 55,
   "id": "4f6a9acc-2903-4c9b-bf27-4373d4849346",
   "metadata": {},
   "outputs": [],
   "source": [
    "import decimal"
   ]
  },
  {
   "cell_type": "code",
   "execution_count": 56,
   "id": "1a21f647-3a46-44d6-9019-fe3430c388fd",
   "metadata": {},
   "outputs": [],
   "source": [
    "amount = decimal.Decimal(35.5)"
   ]
  },
  {
   "cell_type": "code",
   "execution_count": 59,
   "id": "59835e17-ca33-42db-a600-308cd0a71e45",
   "metadata": {},
   "outputs": [],
   "source": [
    "interest = 35.4\n"
   ]
  },
  {
   "cell_type": "code",
   "execution_count": 63,
   "id": "910381b1-e949-44eb-be98-19e6745d09cb",
   "metadata": {},
   "outputs": [],
   "source": [
    "total = decimal.Decimal(interest) + amount"
   ]
  },
  {
   "cell_type": "code",
   "execution_count": 2,
   "id": "2dd13c01-5c72-43e9-9b7b-384e5e2835f8",
   "metadata": {},
   "outputs": [],
   "source": [
    "from python3_gearman import GearmanAdminClient"
   ]
  },
  {
   "cell_type": "code",
   "execution_count": 6,
   "id": "4e2aa99a-6fda-4e3b-967e-915d370eebd3",
   "metadata": {},
   "outputs": [],
   "source": [
    "admin = GearmanAdminClient([\"127.0.0.1:4730\"])"
   ]
  },
  {
   "cell_type": "code",
   "execution_count": 9,
   "id": "04136854-57f1-49a9-9851-3a90cf900183",
   "metadata": {},
   "outputs": [],
   "source": [
    "status = list(admin.get_status())"
   ]
  },
  {
   "cell_type": "code",
   "execution_count": 10,
   "id": "b00af77b-e674-442f-92c5-c42e93a8e560",
   "metadata": {},
   "outputs": [
    {
     "data": {
      "text/plain": [
       "6"
      ]
     },
     "execution_count": 10,
     "metadata": {},
     "output_type": "execute_result"
    }
   ],
   "source": [
    "len(status)"
   ]
  },
  {
   "cell_type": "code",
   "execution_count": 24,
   "id": "cbfdbb04-130e-4902-9a52-caf84d5557a6",
   "metadata": {},
   "outputs": [
    {
     "data": {
      "text/plain": [
       "0"
      ]
     },
     "execution_count": 24,
     "metadata": {},
     "output_type": "execute_result"
    }
   ],
   "source": [
    "from datetime import datetime, timedelta\n",
    "(datetime.now() - (datetime.now() - timedelta(days=20))) // timedelta(days=30)"
   ]
  },
  {
   "cell_type": "code",
   "execution_count": 12,
   "id": "54b1c315-d0a8-45c2-9d7d-a2970af9a914",
   "metadata": {},
   "outputs": [
    {
     "name": "stdout",
     "output_type": "stream",
     "text": [
      "True\n"
     ]
    }
   ],
   "source": [
    "for task in status:\n",
    "    if task[\"task\"] == \"notification.project\":\n",
    "        print(True)\n",
    "        break"
   ]
  },
  {
   "cell_type": "code",
   "execution_count": 25,
   "id": "56bd8240-ae0b-46df-a8ea-e3737d8e9811",
   "metadata": {},
   "outputs": [
    {
     "data": {
      "text/plain": [
       "'HELL'"
      ]
     },
     "execution_count": 25,
     "metadata": {},
     "output_type": "execute_result"
    }
   ],
   "source": [
    "\"hell\".upper()"
   ]
  },
  {
   "cell_type": "code",
   "execution_count": 27,
   "id": "96af7292-3509-4a7c-91fa-a98fda092041",
   "metadata": {},
   "outputs": [],
   "source": [
    "import uuid"
   ]
  },
  {
   "cell_type": "code",
   "execution_count": 28,
   "id": "4722532b-d98a-41cf-be5c-4f3c09fbaf5d",
   "metadata": {},
   "outputs": [
    {
     "data": {
      "text/plain": [
       "'3eaba736-e5e4-4576-98bf-4b786fb75291'"
      ]
     },
     "execution_count": 28,
     "metadata": {},
     "output_type": "execute_result"
    }
   ],
   "source": [
    "str(uuid.uuid4())"
   ]
  },
  {
   "cell_type": "code",
   "execution_count": null,
   "id": "dd69b4a2-c3ea-41c8-bd6d-5eb9158cf0f6",
   "metadata": {},
   "outputs": [],
   "source": []
  }
 ],
 "metadata": {
  "kernelspec": {
   "display_name": "Python 3 (ipykernel)",
   "language": "python",
   "name": "python3"
  },
  "language_info": {
   "codemirror_mode": {
    "name": "ipython",
    "version": 3
   },
   "file_extension": ".py",
   "mimetype": "text/x-python",
   "name": "python",
   "nbconvert_exporter": "python",
   "pygments_lexer": "ipython3",
   "version": "3.8.10"
  }
 },
 "nbformat": 4,
 "nbformat_minor": 5
}
